{
 "cells": [
  {
   "cell_type": "code",
   "execution_count": 13,
   "metadata": {
    "collapsed": false
   },
   "outputs": [
    {
     "name": "stdout",
     "output_type": "stream",
     "text": [
      "[('00111', -7), ('10111', -6), ('01111', -5), ('11111', -4), ('00011', -3), ('01110', -3), ('10101', -3), ('00101', -2), ('00110', -2), ('11100', -2), ('11110', -2), ('01100', -1), ('10011', -1), ('10100', -1), ('10110', -1), ('11101', -1), ('00000', 0), ('00001', 0), ('00010', 0), ('00100', 0), ('01000', 0), ('01010', 0), ('01011', 0), ('01101', 0), ('10000', 0), ('10001', 0), ('11000', 0), ('10010', 2), ('11010', 2), ('11011', 2), ('01001', 3), ('11001', 3)]\n"
     ]
    }
   ],
   "source": [
    "def check():\n",
    "    v=[0,1]\n",
    "    res = []\n",
    "    ac = 1\n",
    "    bc = 1\n",
    "    dc = 2\n",
    "    ec = 2\n",
    "    be = -3\n",
    "    ad=-2\n",
    "    de = 3\n",
    "    for a in v:\n",
    "        for b in v:\n",
    "            for c in v:\n",
    "                for d in v:\n",
    "                    for e in v:\n",
    "                        ele = (str(a)+str(b)+str(c)+str(d)+str(e),-a*c*ac-b*c*bc-d*c*dc-e*c*ec-b*e*be-a*d*ad-d*e*de)\n",
    "                        res.append(ele)\n",
    "    return res\n",
    "a= check()\n",
    "a.sort(key=lambda x:x[1])\n",
    "print a\n"
   ]
  },
  {
   "cell_type": "code",
   "execution_count": 10,
   "metadata": {
    "collapsed": false
   },
   "outputs": [
    {
     "name": "stdout",
     "output_type": "stream",
     "text": [
      "0.365529289315\n"
     ]
    }
   ],
   "source": [
    "from math import *\n",
    "t = [0,1,1,0]\n",
    "v = [exp(x) for x in t]\n",
    "print v[-2]/sum(v)"
   ]
  },
  {
   "cell_type": "code",
   "execution_count": 23,
   "metadata": {
    "collapsed": false
   },
   "outputs": [],
   "source": [
    "def sigmoid(x):\n",
    "    return 1.0/(1.0+exp(-x))\n",
    "w1 = 10\n",
    "w2 = -4"
   ]
  },
  {
   "cell_type": "code",
   "execution_count": 25,
   "metadata": {
    "collapsed": false
   },
   "outputs": [
    {
     "data": {
      "text/plain": [
       "0.49939242873941264"
      ]
     },
     "execution_count": 25,
     "metadata": {},
     "output_type": "execute_result"
    }
   ],
   "source": [
    "sigmoid(w2+w1)*0.25/(sigmoid(w1)*0.25+sigmoid(w2+w1)*0.25)"
   ]
  },
  {
   "cell_type": "code",
   "execution_count": 20,
   "metadata": {
    "collapsed": false
   },
   "outputs": [
    {
     "data": {
      "text/plain": [
       "0.6000000004540406"
      ]
     },
     "execution_count": 20,
     "metadata": {},
     "output_type": "execute_result"
    }
   ],
   "source": [
    "sigmoid(w2)"
   ]
  }
 ],
 "metadata": {
  "anaconda-cloud": {},
  "kernelspec": {
   "display_name": "Python [conda root]",
   "language": "python",
   "name": "conda-root-py"
  },
  "language_info": {
   "codemirror_mode": {
    "name": "ipython",
    "version": 2
   },
   "file_extension": ".py",
   "mimetype": "text/x-python",
   "name": "python",
   "nbconvert_exporter": "python",
   "pygments_lexer": "ipython2",
   "version": "2.7.12"
  }
 },
 "nbformat": 4,
 "nbformat_minor": 1
}
